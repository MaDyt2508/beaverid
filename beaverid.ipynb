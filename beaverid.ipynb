{
 "cells": [
  {
   "attachments": {},
   "cell_type": "markdown",
   "metadata": {},
   "source": [
    "# Data Exploration"
   ]
  },
  {
   "attachments": {},
   "cell_type": "markdown",
   "metadata": {},
   "source": [
    "# 1.Path"
   ]
  },
  {
   "cell_type": "code",
   "execution_count": null,
   "metadata": {},
   "outputs": [],
   "source": [
    "from ipywidgets import interactive\n",
    "import os\n",
    "MAIN_DIR = 'sources'\n",
    "\n",
    "def getSubFolder(subfoldername):\n",
    "    return os.path.join(w.result, subfoldername).replace(\"\\\\\",\"/\")\n",
    "\n",
    "\n",
    "def getPath(filename):\n",
    "    result = os.path.join(MAIN_DIR, filename).replace(\"\\\\\",\"/\")\n",
    "    global w2\n",
    "    w2 = interactive(getSubFolder,subfoldername=os.listdir(result))\n",
    "    return result\n",
    "    \n",
    "w = interactive(getPath,filename=os.listdir(MAIN_DIR))\n"
   ]
  },
  {
   "cell_type": "code",
   "execution_count": null,
   "metadata": {},
   "outputs": [],
   "source": [
    "display(w)"
   ]
  },
  {
   "cell_type": "code",
   "execution_count": null,
   "metadata": {},
   "outputs": [],
   "source": [
    "display(w2)"
   ]
  },
  {
   "cell_type": "code",
   "execution_count": null,
   "metadata": {},
   "outputs": [],
   "source": [
    "w2.result"
   ]
  },
  {
   "cell_type": "code",
   "execution_count": null,
   "metadata": {},
   "outputs": [],
   "source": [
    "path = w2.result\n",
    "\n",
    "import os\n",
    "\n",
    "directory_contents = os.listdir(path)\n",
    "beaver_id = []\n",
    "\n",
    "for n in range(0,len(directory_contents)):\n",
    "    beaver_id.append(directory_contents[n])\n",
    "\n",
    "# Sorting list of Integers in ascending\n",
    "beaver_id.sort(key=int)\n",
    "\n",
    "print(beaver_id)"
   ]
  },
  {
   "attachments": {},
   "cell_type": "markdown",
   "metadata": {},
   "source": [
    "The data set contains 10 classes."
   ]
  },
  {
   "attachments": {},
   "cell_type": "markdown",
   "metadata": {},
   "source": [
    "# 2. Images Counter"
   ]
  },
  {
   "cell_type": "code",
   "execution_count": null,
   "metadata": {},
   "outputs": [],
   "source": [
    "import glob\n",
    "jpgCounter = []\n",
    "totalDir = 0\n",
    "\n",
    "for base, dirs, files in os.walk(path):\n",
    "    print('Searching in : ',base)\n",
    "    for directories in dirs:\n",
    "        totalDir += 1\n",
    "    jpgCount = len(glob.glob1(base,\"*.jpg\"))\n",
    "    jpgCounter.append(jpgCount)\n",
    "    print('number of jpg :', jpgCount)\n",
    "del jpgCounter[0] # delete first index\n",
    "\n",
    "print('Total Number of directories',totalDir)\n",
    "print('Total Number of jpg',sum(jpgCounter))"
   ]
  },
  {
   "attachments": {},
   "cell_type": "markdown",
   "metadata": {},
   "source": [
    "# 3. Graph Data Counter"
   ]
  },
  {
   "cell_type": "code",
   "execution_count": null,
   "metadata": {},
   "outputs": [],
   "source": [
    "import matplotlib.pyplot as plt\n",
    "\n",
    "# Create a List of Labels for x-axis\n",
    "names = beaver_id\n",
    "\n",
    "# Create a List of Values (Same Length as Names List)\n",
    "samples = jpgCounter\n",
    "\n",
    "# Make the Chart\n",
    "plt.bar(names, samples)\n",
    "\n",
    "# Title\n",
    "plt.title('Number of Images per Class')\n",
    "\n",
    "# X and y labels\n",
    "plt.xlabel(\"Beaver\")\n",
    "plt.ylabel(\"Count of images\")\n",
    "\n",
    "# Show the Chart\n",
    "plt.show()"
   ]
  },
  {
   "attachments": {},
   "cell_type": "markdown",
   "metadata": {},
   "source": [
    "Here are some of beaver photos from dataset"
   ]
  },
  {
   "attachments": {},
   "cell_type": "markdown",
   "metadata": {},
   "source": [
    "# 4. Image Visualization"
   ]
  },
  {
   "cell_type": "code",
   "execution_count": null,
   "metadata": {},
   "outputs": [],
   "source": [
    "from matplotlib import pyplot\n",
    "from matplotlib.image import imread\n",
    "import os\n",
    "import random\n",
    "\n",
    "\n",
    "def plot_image(path,n):\n",
    "    \n",
    "    image_list = []\n",
    "\n",
    "    # read the entries\n",
    "    with os.scandir(path) as listOfEntries:\n",
    "        for entry in listOfEntries:\n",
    "            # print all entries that are files\n",
    "            if entry.is_file():\n",
    "                #print(entry.name)\n",
    "                image_list.append(entry.name)\n",
    "\n",
    "\n",
    "    # filter only jpg or png files\n",
    "    image_list = list(filter(lambda k: ('jpg' or 'png') in k, image_list))\n",
    "    image_list.sort()\n",
    "    pyplot.figure(figsize=(10, 10))\n",
    "    # plot all images\n",
    "    for i in range(n):\n",
    "        random_num = random.randint(0, len(image_list)-1)\n",
    "        # define subplot\n",
    "        pyplot.subplot(2,3, i+1)\n",
    "        # define filename\n",
    "        filename = path + '/' + image_list[random_num]\n",
    "        # show image name\n",
    "        pyplot.title(image_list[random_num])\n",
    "        # load image pixels\n",
    "        image = imread(filename)\n",
    "        # plot raw pixel data\n",
    "        pyplot.imshow(image)\n",
    "    # show the figure\n",
    "    pyplot.show()"
   ]
  },
  {
   "attachments": {},
   "cell_type": "markdown",
   "metadata": {},
   "source": [
    "Here are some of random picture of beaver 1:"
   ]
  },
  {
   "cell_type": "code",
   "execution_count": null,
   "metadata": {},
   "outputs": [],
   "source": [
    "print('Beaver 1')\n",
    "plot_image(path+'/1',2)"
   ]
  },
  {
   "attachments": {},
   "cell_type": "markdown",
   "metadata": {},
   "source": [
    "Here are some of random picture of beaver 2:"
   ]
  },
  {
   "cell_type": "code",
   "execution_count": null,
   "metadata": {},
   "outputs": [],
   "source": [
    "print('Beaver 2')\n",
    "plot_image(path+'/2',2)"
   ]
  },
  {
   "attachments": {},
   "cell_type": "markdown",
   "metadata": {},
   "source": [
    "Here are some of random picture of beaver 3:"
   ]
  },
  {
   "cell_type": "code",
   "execution_count": null,
   "metadata": {},
   "outputs": [],
   "source": [
    "print('Beaver 3')\n",
    "plot_image(path+'/3',2)"
   ]
  },
  {
   "attachments": {},
   "cell_type": "markdown",
   "metadata": {},
   "source": [
    "# 5. Create a dataset"
   ]
  },
  {
   "attachments": {},
   "cell_type": "markdown",
   "metadata": {},
   "source": [
    "It's good practice to use a validation split when testing the algorihtm. Let's use 80% of the images for data base, and 20% for testing."
   ]
  },
  {
   "attachments": {},
   "cell_type": "markdown",
   "metadata": {},
   "source": [
    "Create a dataset directories of train and test"
   ]
  },
  {
   "cell_type": "code",
   "execution_count": null,
   "metadata": {},
   "outputs": [],
   "source": [
    "# importing os module\n",
    "import os\n",
    "# create subdirectories\n",
    "subdirs = ['data_base/', 'test/']\n",
    "data_path = path.split(\"/\")\n",
    "print(data_path)\n",
    "for subdir in subdirs:\n",
    "    # create label subdirectories\n",
    "    for labldir in beaver_id:\n",
    "        newdir = os.path.join(data_path[0],data_path[1], subdir,labldir)\n",
    "        os.makedirs(newdir, exist_ok=True)"
   ]
  },
  {
   "attachments": {},
   "cell_type": "markdown",
   "metadata": {},
   "source": [
    "Move each files randomly to train or test directories"
   ]
  },
  {
   "cell_type": "code",
   "execution_count": null,
   "metadata": {},
   "outputs": [],
   "source": [
    "import random\n",
    "from shutil import copyfile\n",
    "from os import listdir\n",
    "\n",
    "# seed random number generator\n",
    "random.seed(1)\n",
    "# define ratio of pictures to use for validation\n",
    "val_ratio = 0.70\n",
    "# copy training dataset images into subdirectories\n",
    "src_directory = path\n",
    "for i, file in enumerate(listdir(src_directory)):\n",
    "    src = src_directory + '/' + file\n",
    "\n",
    "    for subfile in listdir(src):\n",
    "        dst_dir = 'data_base/'\n",
    "        if random.random() < val_ratio:\n",
    "            dst_dir = 'test/'\n",
    "    \n",
    "        dst = os.path.join(data_path[0],data_path[1], dst_dir, file, subfile)\n",
    "        copyfile(os.path.join(src, subfile), dst)"
   ]
  },
  {
   "attachments": {},
   "cell_type": "markdown",
   "metadata": {},
   "source": [
    "**Double check if if you have at least 1 picture in data_base and test folders!**"
   ]
  },
  {
   "attachments": {},
   "cell_type": "markdown",
   "metadata": {},
   "source": [
    "# 6. Prediction using SIFT algorthim"
   ]
  },
  {
   "attachments": {},
   "cell_type": "markdown",
   "metadata": {},
   "source": [
    "## 6.1 Importing Libraries"
   ]
  },
  {
   "cell_type": "code",
   "execution_count": null,
   "metadata": {},
   "outputs": [],
   "source": [
    "import cv2\n",
    "import numpy as np\n",
    "import os\n",
    "from matplotlib import pyplot"
   ]
  },
  {
   "attachments": {},
   "cell_type": "markdown",
   "metadata": {},
   "source": [
    "# Single test images"
   ]
  },
  {
   "cell_type": "code",
   "execution_count": null,
   "metadata": {},
   "outputs": [],
   "source": [
    "# Iterate all the folder inside the data base\n",
    "\n",
    "y_pred = []\n",
    "y_true = []\n",
    "\n",
    "id_prediction = []\n",
    "match_lines = []\n",
    "image_name = []\n",
    "\n",
    "for labldir in beaver_id:\n",
    "    src = os.path.join(data_path[0],data_path[1], 'data_base',str(labldir))\n",
    "\n",
    "    for file_name in listdir(src):\n",
    "        print(os.path.join(src, file_name))\n",
    "\n",
    "        fingerprint_database_image = cv2.imread(os.path.join(\"/Users/gagad/Desktop/beaver/\",src, file_name))\n",
    "        fingerprint_database_image = cv2.resize(fingerprint_database_image,(640,480))\n",
    "        sift = cv2.xfeatures2d.SIFT_create()\n",
    "\n",
    "        # load image pixels\n",
    "        test_image = cv2.imread(\"/Users/gagad/Desktop/beaver/sources/sample1/original/1/7.jpg\")\n",
    "        test_image = cv2.resize(test_image,(640,480))\n",
    "\n",
    "        keypoints_1, descriptors_1 = sift.detectAndCompute(test_image, None)\n",
    "        keypoints_2, descriptors_2 = sift.detectAndCompute(fingerprint_database_image, None)\n",
    "\n",
    "\n",
    "        matches = cv2.FlannBasedMatcher(dict(algorithm=2, trees=10), \n",
    "                dict()).knnMatch(descriptors_1, descriptors_2, k=2)\n",
    "\n",
    "        match_points = []\n",
    "        \n",
    "        for p, q in matches:\n",
    "            if p.distance < 0.75*q.distance:\n",
    "                match_points.append(p)\n",
    "\n",
    "        keypoints = 0\n",
    "        if len(keypoints_1) <= len(keypoints_2):\n",
    "            keypoints = len(keypoints_1)            \n",
    "        else:\n",
    "            keypoints = len(keypoints_2)\n",
    "\n",
    "        print(len(match_points))\n",
    "        print(\"% match: \", len(match_points) / keypoints * 100)\n",
    "        print(\"Figerprint ID: \" + str(file_name)) \n",
    "\n",
    "        id_prediction = np.append(id_prediction,int(labldir))\n",
    "        match_lines = np.append(match_lines, len(match_points))\n",
    "        image_name = np.append(image_name,file_name)\n",
    "\n",
    "\n",
    "sorted_rank = sorted(zip(match_lines, id_prediction, image_name), reverse=True)[:3]\n",
    "y_pred = np.append(y_pred, int(id_prediction[0]))\n",
    "\n",
    "print(sorted_rank)\n",
    "print(\"y_pred : \",y_pred)"
   ]
  },
  {
   "attachments": {},
   "cell_type": "markdown",
   "metadata": {},
   "source": [
    "## 6.2 Multiple test images"
   ]
  },
  {
   "attachments": {},
   "cell_type": "markdown",
   "metadata": {},
   "source": [
    "using number of lines"
   ]
  },
  {
   "cell_type": "code",
   "execution_count": null,
   "metadata": {},
   "outputs": [],
   "source": [
    "# Iterate all the folder inside the data base\n",
    "\n",
    "y_pred = []\n",
    "y_true = []\n",
    "\n",
    "\n",
    "\n",
    "for labldir in beaver_id:\n",
    "    src_test = os.path.join(data_path[0],data_path[1], 'test',str(labldir))\n",
    "    label = labldir\n",
    "    for file_name_test in listdir(src_test):\n",
    "        print(os.path.join(src_test, file_name_test))\n",
    "        print(\"label: {}\".format(label))\n",
    "\n",
    "        y_true = np.append(y_true, int(label))\n",
    "\n",
    "        id_prediction = []\n",
    "        match_lines = []\n",
    "        image_name = []\n",
    "            \n",
    "        for labldir in beaver_id:\n",
    "            src = os.path.join(data_path[0],data_path[1], 'data_base',str(labldir))\n",
    "\n",
    "            for file_name in listdir(src):\n",
    "                print(os.path.join(src, file_name))\n",
    "\n",
    "                fingerprint_database_image = cv2.imread(os.path.join(\"/Users/gagad/Desktop/beaver/\",src, file_name))\n",
    "                fingerprint_database_image = cv2.resize(fingerprint_database_image,(640,480))\n",
    "                sift = cv2.xfeatures2d.SIFT_create()\n",
    "\n",
    "                # load image pixels\n",
    "                test_image = cv2.imread(os.path.join(\"/Users/gagad/Desktop/beaver/\",src_test, file_name_test))\n",
    "                test_image = cv2.resize(test_image,(640,480))\n",
    "\n",
    "                keypoints_1, descriptors_1 = sift.detectAndCompute(test_image, None)\n",
    "                keypoints_2, descriptors_2 = sift.detectAndCompute(fingerprint_database_image, None)\n",
    "\n",
    "\n",
    "                matches = cv2.FlannBasedMatcher(dict(algorithm=0, trees=5), \n",
    "                        dict()).knnMatch(descriptors_1, descriptors_2, k=2)\n",
    "\n",
    "                match_points = []\n",
    "                \n",
    "                for p, q in matches:\n",
    "                    if p.distance < 0.75*q.distance:\n",
    "                        match_points.append(p)\n",
    "\n",
    "                keypoints = 0\n",
    "                if len(keypoints_1) <= len(keypoints_2):\n",
    "                    keypoints = len(keypoints_1)            \n",
    "                else:\n",
    "                    keypoints = len(keypoints_2)\n",
    "\n",
    "                print(len(match_points))\n",
    "                print(\"% match: \", len(match_points) / keypoints * 100)\n",
    "                print(\"Figerprint ID: \" + str(file_name)) \n",
    "\n",
    "                id_prediction = np.append(id_prediction, int(labldir))\n",
    "                match_lines = np.append(match_lines, len(match_points))\n",
    "                image_name = np.append(image_name, file_name)\n",
    "\n",
    "                '''\n",
    "                result = cv2.drawMatches(test_image, keypoints_1, fingerprint_database_image, \n",
    "                        keypoints_2, match_points, None) \n",
    "                result = cv2.resize(result, None, fx=2.5, fy=2.5)\n",
    "\n",
    "    \n",
    "\n",
    "                cv2.imshow(\"result\",cv2.resize(result,(640,480)))\n",
    "                cv2.waitKey(0)\n",
    "                cv2.destroyAllWindows()\n",
    "\n",
    "                '''\n",
    "                \n",
    "                \n",
    "\n",
    "\n",
    "        sorted_rank = sorted(zip(match_lines, id_prediction, image_name), reverse=True)[:3]\n",
    "        y_pred = np.append(y_pred, int(sorted_rank[0][1]))\n",
    "\n",
    "\n",
    "\n",
    "        \n",
    "        print(sorted_rank)\n",
    "        #print('match_percentage :', match_percentage)\n",
    "        #print('id_prediction :', id_prediction)\n",
    "        #print('image_name :', image_name)\n",
    "        print('y_pred :', y_pred)\n",
    "        print('y_true :', y_true)\n",
    "\n",
    "        print('-----------------------------------------------------------------')"
   ]
  },
  {
   "cell_type": "code",
   "execution_count": null,
   "metadata": {},
   "outputs": [],
   "source": [
    "src_test"
   ]
  },
  {
   "attachments": {},
   "cell_type": "markdown",
   "metadata": {},
   "source": [
    "# Confusion Matrix"
   ]
  },
  {
   "cell_type": "code",
   "execution_count": null,
   "metadata": {},
   "outputs": [],
   "source": [
    "from sklearn.metrics import confusion_matrix\n",
    "\n",
    "y_true = [int(i) for i in y_true]\n",
    "y_pred = [int(i) for i in y_pred]\n",
    "print('y_true :', y_true)\n",
    "print('y_pred :', y_pred)\n",
    "\n",
    "beaver_id = [int(i) for i in beaver_id]\n",
    "\n",
    "cf_matrix = confusion_matrix(y_true, y_pred, labels = beaver_id )\n",
    "print(cf_matrix)\n",
    "\n",
    "np.save('cf_matrix.npy',cf_matrix)"
   ]
  },
  {
   "cell_type": "code",
   "execution_count": null,
   "metadata": {},
   "outputs": [],
   "source": [
    "import seaborn as sns\n",
    "import matplotlib.pyplot as plt\n",
    "fig, ax_sub = plt.subplots(figsize=(20,20)) \n",
    "ax = sns.heatmap(cf_matrix, annot=True, cmap='Blues', ax=ax_sub)\n",
    "ax.set_title('Beaver Tail Pattern Matching\\n\\n')\n",
    "ax.set_ylabel('Predicted Beaver')\n",
    "ax.set_xlabel('Actual Beaver ')\n",
    "# ax.figure(figsize=(20,20))\n",
    "## Ticket labels - List must be in alphabetical order\n",
    "ax.xaxis.set_ticklabels(beaver_id)\n",
    "ax.yaxis.set_ticklabels(beaver_id)\n",
    "## Display the visualization of the Confusion Matrix.\n",
    "plt.show()"
   ]
  },
  {
   "attachments": {},
   "cell_type": "markdown",
   "metadata": {},
   "source": [
    "resize"
   ]
  },
  {
   "cell_type": "code",
   "execution_count": null,
   "metadata": {},
   "outputs": [],
   "source": [
    "import cv2\n",
    " \n",
    "img = cv2.imread('/home/com4/beaver/sources/sift/beaver1_test.jpg', cv2.IMREAD_UNCHANGED)\n",
    " \n",
    "print('Original Dimensions : ',img.shape)\n",
    "\n",
    "height = 640\n",
    "width = int(img.shape[1]*height/img.shape[0])\n",
    "\n",
    "dim = (width, height)\n",
    " \n",
    "# resize image\n",
    "resized = cv2.resize(img, dim, interpolation = cv2.INTER_AREA)\n",
    " \n",
    "print('Resized Dimensions : ',resized.shape)\n",
    " \n",
    "cv2.imshow(\"Resized image\", resized)\n",
    "cv2.waitKey(0)"
   ]
  },
  {
   "cell_type": "code",
   "execution_count": null,
   "metadata": {},
   "outputs": [],
   "source": [
    "import cv2\n",
    "\n",
    "def resize_image(image):\n",
    "    height = 640\n",
    "    width = int(image.shape[1]*height/image.shape[0])\n",
    "\n",
    "    dim = (width, height)\n",
    "    \n",
    "    # resize image\n",
    "    resized = cv2.resize(image, dim, interpolation = cv2.INTER_AREA)\n",
    "    return resized"
   ]
  },
  {
   "cell_type": "code",
   "execution_count": null,
   "metadata": {},
   "outputs": [],
   "source": [
    "# Iterate all the folder inside the data base\n",
    "\n",
    "y_pred = []\n",
    "y_true = []\n",
    "\n",
    "\n",
    "\n",
    "for labldir in beaver_id:\n",
    "    src_test = os.path.join(data_path[0],data_path[1], 'test',str(labldir))\n",
    "\n",
    "    for file_name_test in listdir(src_test):\n",
    "        print(os.path.join(src_test, file_name_test))\n",
    "\n",
    "        y_true = np.append(y_true, int(labldir))\n",
    "\n",
    "        id_prediction = []\n",
    "        match_lines = []\n",
    "        image_name = []\n",
    "            \n",
    "        for labldir in beaver_id:\n",
    "            src = os.path.join(data_path[0],data_path[1], 'data_base',str(labldir))\n",
    "\n",
    "            for file_name in listdir(src):\n",
    "                print(os.path.join(src, file_name))\n",
    "\n",
    "                fingerprint_database_image = cv2.imread(os.path.join(\"/home/com4/beaver/\",src, file_name))\n",
    "                fingerprint_database_image = resize_image(fingerprint_database_image)\n",
    "                sift = cv2.xfeatures2d.SIFT_create()\n",
    "\n",
    "                # load image pixels\n",
    "                test_image = cv2.imread(os.path.join(\"/home/com4/beaver/\",src_test, file_name_test))\n",
    "                test_image = resize_image(test_image)\n",
    "\n",
    "                keypoints_1, descriptors_1 = sift.detectAndCompute(test_image, None)\n",
    "                keypoints_2, descriptors_2 = sift.detectAndCompute(fingerprint_database_image, None)\n",
    "\n",
    "\n",
    "                matches = cv2.FlannBasedMatcher(dict(algorithm=0, trees=5), \n",
    "                        dict()).knnMatch(descriptors_1, descriptors_2, k=2)\n",
    "\n",
    "                match_points = []\n",
    "                \n",
    "                for p, q in matches:\n",
    "                    if p.distance < 0.75*q.distance:\n",
    "                        match_points.append(p)\n",
    "\n",
    "                keypoints = 0\n",
    "                if len(keypoints_1) <= len(keypoints_2):\n",
    "                    keypoints = len(keypoints_1)            \n",
    "                else:\n",
    "                    keypoints = len(keypoints_2)\n",
    "\n",
    "                print(len(match_points))\n",
    "                print(\"% match: \", len(match_points) / keypoints * 100)\n",
    "                print(\"Figerprint ID: \" + str(file_name)) \n",
    "\n",
    "                id_prediction = np.append(id_prediction, int(labldir))\n",
    "                match_lines = np.append(match_lines, len(match_points))\n",
    "                image_name = np.append(image_name, file_name)\n",
    "\n",
    "                '''\n",
    "                result = cv2.drawMatches(test_image, keypoints_1, fingerprint_database_image, \n",
    "                        keypoints_2, match_points, None) \n",
    "                result = cv2.resize(result, None, fx=2.5, fy=2.5)\n",
    "\n",
    "    \n",
    "\n",
    "                cv2.imshow(\"result\",cv2.resize(result,(640,480)))\n",
    "                cv2.waitKey(0)\n",
    "                cv2.destroyAllWindows()\n",
    "\n",
    "                '''\n",
    "                \n",
    "                \n",
    "\n",
    "\n",
    "        sorted_rank = sorted(zip(match_lines, id_prediction, image_name), reverse=True)[:3]\n",
    "        y_pred = np.append(y_pred, int(sorted_rank[0][1]))\n",
    "\n",
    "\n",
    "\n",
    "        \n",
    "        print(sorted_rank)\n",
    "        #print('match_percentage :', match_percentage)\n",
    "        #print('id_prediction :', id_prediction)\n",
    "        #print('image_name :', image_name)\n",
    "        print('y_pred :', y_pred)\n",
    "        print('y_true :', y_true)\n",
    "\n",
    "        print('-----------------------------------------------------------------')"
   ]
  }
 ],
 "metadata": {
  "kernelspec": {
   "display_name": "Python 3.10.6 64-bit",
   "language": "python",
   "name": "python3"
  },
  "language_info": {
   "codemirror_mode": {
    "name": "ipython",
    "version": 3
   },
   "file_extension": ".py",
   "mimetype": "text/x-python",
   "name": "python",
   "nbconvert_exporter": "python",
   "pygments_lexer": "ipython3",
   "version": "3.10.6"
  },
  "orig_nbformat": 4,
  "vscode": {
   "interpreter": {
    "hash": "5b175c2b633a23ba9054ecfc5383cd7283b6a5454043bf7f2ad3bc2a87994aad"
   }
  }
 },
 "nbformat": 4,
 "nbformat_minor": 2
}
